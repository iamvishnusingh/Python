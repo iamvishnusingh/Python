{
  "nbformat": 4,
  "nbformat_minor": 0,
  "metadata": {
    "colab": {
      "name": "ANN.ipynb",
      "provenance": [],
      "authorship_tag": "ABX9TyNnW0QHkUQY1XRdE8F2xDWg",
      "include_colab_link": true
    },
    "kernelspec": {
      "name": "python3",
      "display_name": "Python 3"
    }
  },
  "cells": [
    {
      "cell_type": "markdown",
      "metadata": {
        "id": "view-in-github",
        "colab_type": "text"
      },
      "source": [
        "<a href=\"https://colab.research.google.com/github/iamvishnusingh/Python/blob/master/ANN.ipynb\" target=\"_parent\"><img src=\"https://colab.research.google.com/assets/colab-badge.svg\" alt=\"Open In Colab\"/></a>"
      ]
    },
    {
      "cell_type": "code",
      "metadata": {
        "id": "jJWNl6WEFVIm",
        "colab_type": "code",
        "colab": {}
      },
      "source": [
        "import numpy as np\n",
        "import pandas as pd\n",
        "import matplotlib.pyplot as plt"
      ],
      "execution_count": 2,
      "outputs": []
    },
    {
      "cell_type": "code",
      "metadata": {
        "id": "BeRTaLKqF4sa",
        "colab_type": "code",
        "colab": {}
      },
      "source": [
        "path=\"/content/sample_data/Churn_Modelling.csv\"\n",
        "dataset=pd.read_csv(path)\n",
        "X=dataset.iloc[:,3:13]\n",
        "y=dataset.iloc[:,13]"
      ],
      "execution_count": 5,
      "outputs": []
    },
    {
      "cell_type": "code",
      "metadata": {
        "id": "99c5kQFHGNlI",
        "colab_type": "code",
        "colab": {
          "base_uri": "https://localhost:8080/",
          "height": 255
        },
        "outputId": "cf85479a-4406-4c62-b3f0-9d56d81bd37f"
      },
      "source": [
        "dataset.head"
      ],
      "execution_count": 6,
      "outputs": [
        {
          "output_type": "execute_result",
          "data": {
            "text/plain": [
              "<bound method NDFrame.head of       RowNumber  CustomerId    Surname  ...  IsActiveMember EstimatedSalary Exited\n",
              "0             1    15634602   Hargrave  ...               1       101348.88      1\n",
              "1             2    15647311       Hill  ...               1       112542.58      0\n",
              "2             3    15619304       Onio  ...               0       113931.57      1\n",
              "3             4    15701354       Boni  ...               0        93826.63      0\n",
              "4             5    15737888   Mitchell  ...               1        79084.10      0\n",
              "...         ...         ...        ...  ...             ...             ...    ...\n",
              "9995       9996    15606229   Obijiaku  ...               0        96270.64      0\n",
              "9996       9997    15569892  Johnstone  ...               1       101699.77      0\n",
              "9997       9998    15584532        Liu  ...               1        42085.58      1\n",
              "9998       9999    15682355  Sabbatini  ...               0        92888.52      1\n",
              "9999      10000    15628319     Walker  ...               0        38190.78      0\n",
              "\n",
              "[10000 rows x 14 columns]>"
            ]
          },
          "metadata": {
            "tags": []
          },
          "execution_count": 6
        }
      ]
    },
    {
      "cell_type": "code",
      "metadata": {
        "id": "lJhS4ux1KF0x",
        "colab_type": "code",
        "colab": {}
      },
      "source": [
        "geography=pd.get_dummies(X[\"Geography\"],drop_first=True)\n",
        "gender=pd.get_dummies(X[\"Gender\"],drop_first=True)\n",
        "\n",
        "X=pd.concat([X,geography,gender],axis=1)\n",
        "\n",
        "X=X.drop(['Geography','Gender'],axis=1)"
      ],
      "execution_count": 7,
      "outputs": []
    },
    {
      "cell_type": "code",
      "metadata": {
        "id": "dtl0WCV8KP5I",
        "colab_type": "code",
        "colab": {
          "base_uri": "https://localhost:8080/",
          "height": 979
        },
        "outputId": "8f45c671-7d0c-4ebc-cfd0-670ea70f67bd"
      },
      "source": [
        "X.head(30)"
      ],
      "execution_count": 8,
      "outputs": [
        {
          "output_type": "execute_result",
          "data": {
            "text/html": [
              "<div>\n",
              "<style scoped>\n",
              "    .dataframe tbody tr th:only-of-type {\n",
              "        vertical-align: middle;\n",
              "    }\n",
              "\n",
              "    .dataframe tbody tr th {\n",
              "        vertical-align: top;\n",
              "    }\n",
              "\n",
              "    .dataframe thead th {\n",
              "        text-align: right;\n",
              "    }\n",
              "</style>\n",
              "<table border=\"1\" class=\"dataframe\">\n",
              "  <thead>\n",
              "    <tr style=\"text-align: right;\">\n",
              "      <th></th>\n",
              "      <th>CreditScore</th>\n",
              "      <th>Age</th>\n",
              "      <th>Tenure</th>\n",
              "      <th>Balance</th>\n",
              "      <th>NumOfProducts</th>\n",
              "      <th>HasCrCard</th>\n",
              "      <th>IsActiveMember</th>\n",
              "      <th>EstimatedSalary</th>\n",
              "      <th>Germany</th>\n",
              "      <th>Spain</th>\n",
              "      <th>Male</th>\n",
              "    </tr>\n",
              "  </thead>\n",
              "  <tbody>\n",
              "    <tr>\n",
              "      <th>0</th>\n",
              "      <td>619</td>\n",
              "      <td>42</td>\n",
              "      <td>2</td>\n",
              "      <td>0.00</td>\n",
              "      <td>1</td>\n",
              "      <td>1</td>\n",
              "      <td>1</td>\n",
              "      <td>101348.88</td>\n",
              "      <td>0</td>\n",
              "      <td>0</td>\n",
              "      <td>0</td>\n",
              "    </tr>\n",
              "    <tr>\n",
              "      <th>1</th>\n",
              "      <td>608</td>\n",
              "      <td>41</td>\n",
              "      <td>1</td>\n",
              "      <td>83807.86</td>\n",
              "      <td>1</td>\n",
              "      <td>0</td>\n",
              "      <td>1</td>\n",
              "      <td>112542.58</td>\n",
              "      <td>0</td>\n",
              "      <td>1</td>\n",
              "      <td>0</td>\n",
              "    </tr>\n",
              "    <tr>\n",
              "      <th>2</th>\n",
              "      <td>502</td>\n",
              "      <td>42</td>\n",
              "      <td>8</td>\n",
              "      <td>159660.80</td>\n",
              "      <td>3</td>\n",
              "      <td>1</td>\n",
              "      <td>0</td>\n",
              "      <td>113931.57</td>\n",
              "      <td>0</td>\n",
              "      <td>0</td>\n",
              "      <td>0</td>\n",
              "    </tr>\n",
              "    <tr>\n",
              "      <th>3</th>\n",
              "      <td>699</td>\n",
              "      <td>39</td>\n",
              "      <td>1</td>\n",
              "      <td>0.00</td>\n",
              "      <td>2</td>\n",
              "      <td>0</td>\n",
              "      <td>0</td>\n",
              "      <td>93826.63</td>\n",
              "      <td>0</td>\n",
              "      <td>0</td>\n",
              "      <td>0</td>\n",
              "    </tr>\n",
              "    <tr>\n",
              "      <th>4</th>\n",
              "      <td>850</td>\n",
              "      <td>43</td>\n",
              "      <td>2</td>\n",
              "      <td>125510.82</td>\n",
              "      <td>1</td>\n",
              "      <td>1</td>\n",
              "      <td>1</td>\n",
              "      <td>79084.10</td>\n",
              "      <td>0</td>\n",
              "      <td>1</td>\n",
              "      <td>0</td>\n",
              "    </tr>\n",
              "    <tr>\n",
              "      <th>5</th>\n",
              "      <td>645</td>\n",
              "      <td>44</td>\n",
              "      <td>8</td>\n",
              "      <td>113755.78</td>\n",
              "      <td>2</td>\n",
              "      <td>1</td>\n",
              "      <td>0</td>\n",
              "      <td>149756.71</td>\n",
              "      <td>0</td>\n",
              "      <td>1</td>\n",
              "      <td>1</td>\n",
              "    </tr>\n",
              "    <tr>\n",
              "      <th>6</th>\n",
              "      <td>822</td>\n",
              "      <td>50</td>\n",
              "      <td>7</td>\n",
              "      <td>0.00</td>\n",
              "      <td>2</td>\n",
              "      <td>1</td>\n",
              "      <td>1</td>\n",
              "      <td>10062.80</td>\n",
              "      <td>0</td>\n",
              "      <td>0</td>\n",
              "      <td>1</td>\n",
              "    </tr>\n",
              "    <tr>\n",
              "      <th>7</th>\n",
              "      <td>376</td>\n",
              "      <td>29</td>\n",
              "      <td>4</td>\n",
              "      <td>115046.74</td>\n",
              "      <td>4</td>\n",
              "      <td>1</td>\n",
              "      <td>0</td>\n",
              "      <td>119346.88</td>\n",
              "      <td>1</td>\n",
              "      <td>0</td>\n",
              "      <td>0</td>\n",
              "    </tr>\n",
              "    <tr>\n",
              "      <th>8</th>\n",
              "      <td>501</td>\n",
              "      <td>44</td>\n",
              "      <td>4</td>\n",
              "      <td>142051.07</td>\n",
              "      <td>2</td>\n",
              "      <td>0</td>\n",
              "      <td>1</td>\n",
              "      <td>74940.50</td>\n",
              "      <td>0</td>\n",
              "      <td>0</td>\n",
              "      <td>1</td>\n",
              "    </tr>\n",
              "    <tr>\n",
              "      <th>9</th>\n",
              "      <td>684</td>\n",
              "      <td>27</td>\n",
              "      <td>2</td>\n",
              "      <td>134603.88</td>\n",
              "      <td>1</td>\n",
              "      <td>1</td>\n",
              "      <td>1</td>\n",
              "      <td>71725.73</td>\n",
              "      <td>0</td>\n",
              "      <td>0</td>\n",
              "      <td>1</td>\n",
              "    </tr>\n",
              "    <tr>\n",
              "      <th>10</th>\n",
              "      <td>528</td>\n",
              "      <td>31</td>\n",
              "      <td>6</td>\n",
              "      <td>102016.72</td>\n",
              "      <td>2</td>\n",
              "      <td>0</td>\n",
              "      <td>0</td>\n",
              "      <td>80181.12</td>\n",
              "      <td>0</td>\n",
              "      <td>0</td>\n",
              "      <td>1</td>\n",
              "    </tr>\n",
              "    <tr>\n",
              "      <th>11</th>\n",
              "      <td>497</td>\n",
              "      <td>24</td>\n",
              "      <td>3</td>\n",
              "      <td>0.00</td>\n",
              "      <td>2</td>\n",
              "      <td>1</td>\n",
              "      <td>0</td>\n",
              "      <td>76390.01</td>\n",
              "      <td>0</td>\n",
              "      <td>1</td>\n",
              "      <td>1</td>\n",
              "    </tr>\n",
              "    <tr>\n",
              "      <th>12</th>\n",
              "      <td>476</td>\n",
              "      <td>34</td>\n",
              "      <td>10</td>\n",
              "      <td>0.00</td>\n",
              "      <td>2</td>\n",
              "      <td>1</td>\n",
              "      <td>0</td>\n",
              "      <td>26260.98</td>\n",
              "      <td>0</td>\n",
              "      <td>0</td>\n",
              "      <td>0</td>\n",
              "    </tr>\n",
              "    <tr>\n",
              "      <th>13</th>\n",
              "      <td>549</td>\n",
              "      <td>25</td>\n",
              "      <td>5</td>\n",
              "      <td>0.00</td>\n",
              "      <td>2</td>\n",
              "      <td>0</td>\n",
              "      <td>0</td>\n",
              "      <td>190857.79</td>\n",
              "      <td>0</td>\n",
              "      <td>0</td>\n",
              "      <td>0</td>\n",
              "    </tr>\n",
              "    <tr>\n",
              "      <th>14</th>\n",
              "      <td>635</td>\n",
              "      <td>35</td>\n",
              "      <td>7</td>\n",
              "      <td>0.00</td>\n",
              "      <td>2</td>\n",
              "      <td>1</td>\n",
              "      <td>1</td>\n",
              "      <td>65951.65</td>\n",
              "      <td>0</td>\n",
              "      <td>1</td>\n",
              "      <td>0</td>\n",
              "    </tr>\n",
              "    <tr>\n",
              "      <th>15</th>\n",
              "      <td>616</td>\n",
              "      <td>45</td>\n",
              "      <td>3</td>\n",
              "      <td>143129.41</td>\n",
              "      <td>2</td>\n",
              "      <td>0</td>\n",
              "      <td>1</td>\n",
              "      <td>64327.26</td>\n",
              "      <td>1</td>\n",
              "      <td>0</td>\n",
              "      <td>1</td>\n",
              "    </tr>\n",
              "    <tr>\n",
              "      <th>16</th>\n",
              "      <td>653</td>\n",
              "      <td>58</td>\n",
              "      <td>1</td>\n",
              "      <td>132602.88</td>\n",
              "      <td>1</td>\n",
              "      <td>1</td>\n",
              "      <td>0</td>\n",
              "      <td>5097.67</td>\n",
              "      <td>1</td>\n",
              "      <td>0</td>\n",
              "      <td>1</td>\n",
              "    </tr>\n",
              "    <tr>\n",
              "      <th>17</th>\n",
              "      <td>549</td>\n",
              "      <td>24</td>\n",
              "      <td>9</td>\n",
              "      <td>0.00</td>\n",
              "      <td>2</td>\n",
              "      <td>1</td>\n",
              "      <td>1</td>\n",
              "      <td>14406.41</td>\n",
              "      <td>0</td>\n",
              "      <td>1</td>\n",
              "      <td>0</td>\n",
              "    </tr>\n",
              "    <tr>\n",
              "      <th>18</th>\n",
              "      <td>587</td>\n",
              "      <td>45</td>\n",
              "      <td>6</td>\n",
              "      <td>0.00</td>\n",
              "      <td>1</td>\n",
              "      <td>0</td>\n",
              "      <td>0</td>\n",
              "      <td>158684.81</td>\n",
              "      <td>0</td>\n",
              "      <td>1</td>\n",
              "      <td>1</td>\n",
              "    </tr>\n",
              "    <tr>\n",
              "      <th>19</th>\n",
              "      <td>726</td>\n",
              "      <td>24</td>\n",
              "      <td>6</td>\n",
              "      <td>0.00</td>\n",
              "      <td>2</td>\n",
              "      <td>1</td>\n",
              "      <td>1</td>\n",
              "      <td>54724.03</td>\n",
              "      <td>0</td>\n",
              "      <td>0</td>\n",
              "      <td>0</td>\n",
              "    </tr>\n",
              "    <tr>\n",
              "      <th>20</th>\n",
              "      <td>732</td>\n",
              "      <td>41</td>\n",
              "      <td>8</td>\n",
              "      <td>0.00</td>\n",
              "      <td>2</td>\n",
              "      <td>1</td>\n",
              "      <td>1</td>\n",
              "      <td>170886.17</td>\n",
              "      <td>0</td>\n",
              "      <td>0</td>\n",
              "      <td>1</td>\n",
              "    </tr>\n",
              "    <tr>\n",
              "      <th>21</th>\n",
              "      <td>636</td>\n",
              "      <td>32</td>\n",
              "      <td>8</td>\n",
              "      <td>0.00</td>\n",
              "      <td>2</td>\n",
              "      <td>1</td>\n",
              "      <td>0</td>\n",
              "      <td>138555.46</td>\n",
              "      <td>0</td>\n",
              "      <td>1</td>\n",
              "      <td>0</td>\n",
              "    </tr>\n",
              "    <tr>\n",
              "      <th>22</th>\n",
              "      <td>510</td>\n",
              "      <td>38</td>\n",
              "      <td>4</td>\n",
              "      <td>0.00</td>\n",
              "      <td>1</td>\n",
              "      <td>1</td>\n",
              "      <td>0</td>\n",
              "      <td>118913.53</td>\n",
              "      <td>0</td>\n",
              "      <td>1</td>\n",
              "      <td>0</td>\n",
              "    </tr>\n",
              "    <tr>\n",
              "      <th>23</th>\n",
              "      <td>669</td>\n",
              "      <td>46</td>\n",
              "      <td>3</td>\n",
              "      <td>0.00</td>\n",
              "      <td>2</td>\n",
              "      <td>0</td>\n",
              "      <td>1</td>\n",
              "      <td>8487.75</td>\n",
              "      <td>0</td>\n",
              "      <td>0</td>\n",
              "      <td>1</td>\n",
              "    </tr>\n",
              "    <tr>\n",
              "      <th>24</th>\n",
              "      <td>846</td>\n",
              "      <td>38</td>\n",
              "      <td>5</td>\n",
              "      <td>0.00</td>\n",
              "      <td>1</td>\n",
              "      <td>1</td>\n",
              "      <td>1</td>\n",
              "      <td>187616.16</td>\n",
              "      <td>0</td>\n",
              "      <td>0</td>\n",
              "      <td>0</td>\n",
              "    </tr>\n",
              "    <tr>\n",
              "      <th>25</th>\n",
              "      <td>577</td>\n",
              "      <td>25</td>\n",
              "      <td>3</td>\n",
              "      <td>0.00</td>\n",
              "      <td>2</td>\n",
              "      <td>0</td>\n",
              "      <td>1</td>\n",
              "      <td>124508.29</td>\n",
              "      <td>0</td>\n",
              "      <td>0</td>\n",
              "      <td>1</td>\n",
              "    </tr>\n",
              "    <tr>\n",
              "      <th>26</th>\n",
              "      <td>756</td>\n",
              "      <td>36</td>\n",
              "      <td>2</td>\n",
              "      <td>136815.64</td>\n",
              "      <td>1</td>\n",
              "      <td>1</td>\n",
              "      <td>1</td>\n",
              "      <td>170041.95</td>\n",
              "      <td>1</td>\n",
              "      <td>0</td>\n",
              "      <td>1</td>\n",
              "    </tr>\n",
              "    <tr>\n",
              "      <th>27</th>\n",
              "      <td>571</td>\n",
              "      <td>44</td>\n",
              "      <td>9</td>\n",
              "      <td>0.00</td>\n",
              "      <td>2</td>\n",
              "      <td>0</td>\n",
              "      <td>0</td>\n",
              "      <td>38433.35</td>\n",
              "      <td>0</td>\n",
              "      <td>0</td>\n",
              "      <td>1</td>\n",
              "    </tr>\n",
              "    <tr>\n",
              "      <th>28</th>\n",
              "      <td>574</td>\n",
              "      <td>43</td>\n",
              "      <td>3</td>\n",
              "      <td>141349.43</td>\n",
              "      <td>1</td>\n",
              "      <td>1</td>\n",
              "      <td>1</td>\n",
              "      <td>100187.43</td>\n",
              "      <td>1</td>\n",
              "      <td>0</td>\n",
              "      <td>0</td>\n",
              "    </tr>\n",
              "    <tr>\n",
              "      <th>29</th>\n",
              "      <td>411</td>\n",
              "      <td>29</td>\n",
              "      <td>0</td>\n",
              "      <td>59697.17</td>\n",
              "      <td>2</td>\n",
              "      <td>1</td>\n",
              "      <td>1</td>\n",
              "      <td>53483.21</td>\n",
              "      <td>0</td>\n",
              "      <td>0</td>\n",
              "      <td>1</td>\n",
              "    </tr>\n",
              "  </tbody>\n",
              "</table>\n",
              "</div>"
            ],
            "text/plain": [
              "    CreditScore  Age  Tenure    Balance  ...  EstimatedSalary  Germany  Spain  Male\n",
              "0           619   42       2       0.00  ...        101348.88        0      0     0\n",
              "1           608   41       1   83807.86  ...        112542.58        0      1     0\n",
              "2           502   42       8  159660.80  ...        113931.57        0      0     0\n",
              "3           699   39       1       0.00  ...         93826.63        0      0     0\n",
              "4           850   43       2  125510.82  ...         79084.10        0      1     0\n",
              "5           645   44       8  113755.78  ...        149756.71        0      1     1\n",
              "6           822   50       7       0.00  ...         10062.80        0      0     1\n",
              "7           376   29       4  115046.74  ...        119346.88        1      0     0\n",
              "8           501   44       4  142051.07  ...         74940.50        0      0     1\n",
              "9           684   27       2  134603.88  ...         71725.73        0      0     1\n",
              "10          528   31       6  102016.72  ...         80181.12        0      0     1\n",
              "11          497   24       3       0.00  ...         76390.01        0      1     1\n",
              "12          476   34      10       0.00  ...         26260.98        0      0     0\n",
              "13          549   25       5       0.00  ...        190857.79        0      0     0\n",
              "14          635   35       7       0.00  ...         65951.65        0      1     0\n",
              "15          616   45       3  143129.41  ...         64327.26        1      0     1\n",
              "16          653   58       1  132602.88  ...          5097.67        1      0     1\n",
              "17          549   24       9       0.00  ...         14406.41        0      1     0\n",
              "18          587   45       6       0.00  ...        158684.81        0      1     1\n",
              "19          726   24       6       0.00  ...         54724.03        0      0     0\n",
              "20          732   41       8       0.00  ...        170886.17        0      0     1\n",
              "21          636   32       8       0.00  ...        138555.46        0      1     0\n",
              "22          510   38       4       0.00  ...        118913.53        0      1     0\n",
              "23          669   46       3       0.00  ...          8487.75        0      0     1\n",
              "24          846   38       5       0.00  ...        187616.16        0      0     0\n",
              "25          577   25       3       0.00  ...        124508.29        0      0     1\n",
              "26          756   36       2  136815.64  ...        170041.95        1      0     1\n",
              "27          571   44       9       0.00  ...         38433.35        0      0     1\n",
              "28          574   43       3  141349.43  ...        100187.43        1      0     0\n",
              "29          411   29       0   59697.17  ...         53483.21        0      0     1\n",
              "\n",
              "[30 rows x 11 columns]"
            ]
          },
          "metadata": {
            "tags": []
          },
          "execution_count": 8
        }
      ]
    },
    {
      "cell_type": "code",
      "metadata": {
        "id": "TrIExRALKVSe",
        "colab_type": "code",
        "colab": {}
      },
      "source": [
        "#splitting the dataset into training set and  train set\n",
        "\n",
        "from sklearn.model_selection import train_test_split\n",
        "\n",
        "X_train,X_test,y_train,y_test=train_test_split(X, y , test_size=0.2,random_state=0)\n"
      ],
      "execution_count": 9,
      "outputs": []
    },
    {
      "cell_type": "code",
      "metadata": {
        "id": "dfWlpHtUKaQa",
        "colab_type": "code",
        "colab": {}
      },
      "source": [
        "from sklearn.preprocessing import StandardScaler\n",
        "Standard_Scalar=StandardScaler()\n",
        "X_train=Standard_Scalar.fit_transform(X_train)\n",
        "X_test=Standard_Scalar.fit_transform(X_test)"
      ],
      "execution_count": 10,
      "outputs": []
    },
    {
      "cell_type": "code",
      "metadata": {
        "id": "LsgUqTs5KdRD",
        "colab_type": "code",
        "colab": {
          "base_uri": "https://localhost:8080/",
          "height": 34
        },
        "outputId": "5641576c-6fbc-4684-8ed0-a9b55f8f5ce2"
      },
      "source": [
        "#Part 2 Now lets make an ANN\n",
        "import keras"
      ],
      "execution_count": 11,
      "outputs": [
        {
          "output_type": "stream",
          "text": [
            "Using TensorFlow backend.\n"
          ],
          "name": "stderr"
        }
      ]
    },
    {
      "cell_type": "code",
      "metadata": {
        "id": "uv8D47__KlGr",
        "colab_type": "code",
        "colab": {}
      },
      "source": [
        "from keras.models import Sequential\n",
        "from keras.layers import Dense\n",
        "from keras.layers import LeakyReLU,PReLU,ELU\n",
        "from keras.layers import Dropout\n",
        "\n"
      ],
      "execution_count": 12,
      "outputs": []
    },
    {
      "cell_type": "code",
      "metadata": {
        "id": "TVGRof6fMAOY",
        "colab_type": "code",
        "colab": {}
      },
      "source": [
        "classifier=Sequential()"
      ],
      "execution_count": 13,
      "outputs": []
    },
    {
      "cell_type": "code",
      "metadata": {
        "id": "o6NOvg3AMKli",
        "colab_type": "code",
        "colab": {}
      },
      "source": [
        "#adding the input layer and first hidden layer\n",
        "classifier.add(Dense(units=6,kernel_initializer ='he_uniform',activation='relu' ,input_dim=11))"
      ],
      "execution_count": 19,
      "outputs": []
    },
    {
      "cell_type": "code",
      "metadata": {
        "id": "V18VfGNl67f4",
        "colab_type": "code",
        "colab": {}
      },
      "source": [
        "#adding the second Hidden Layer\n",
        "classifier.add(Dense(units=6,kernel_initializer ='he_uniform',activation='relu'))"
      ],
      "execution_count": 20,
      "outputs": []
    },
    {
      "cell_type": "code",
      "metadata": {
        "id": "LrYIWH0z9HdN",
        "colab_type": "code",
        "colab": {}
      },
      "source": [
        "#adding output layer\n",
        "classifier.add(Dense(units=1,kernel_initializer ='glorot_uniform',activation='sigmoid' ))"
      ],
      "execution_count": 22,
      "outputs": []
    },
    {
      "cell_type": "code",
      "metadata": {
        "id": "S3YlOavo9iRy",
        "colab_type": "code",
        "colab": {}
      },
      "source": [
        "#compiling the ANN\n",
        "classifier.compile(optimizer='Adam' , loss='binary_crossentropy',metrics=['accuracy'])"
      ],
      "execution_count": 23,
      "outputs": []
    },
    {
      "cell_type": "code",
      "metadata": {
        "id": "XV_fJPsAGAkq",
        "colab_type": "code",
        "colab": {
          "base_uri": "https://localhost:8080/",
          "height": 1000
        },
        "outputId": "247431a4-bc0a-49d3-d7bd-8a247bd80c8c"
      },
      "source": [
        "#fitting the ANN to the training set\n",
        "model_history=classifier.fit(X_train,y_train,validation_split=0.33,batch_size=10,nb_epoch=100)"
      ],
      "execution_count": 24,
      "outputs": [
        {
          "output_type": "stream",
          "text": [
            "/usr/local/lib/python3.6/dist-packages/ipykernel_launcher.py:2: UserWarning: The `nb_epoch` argument in `fit` has been renamed `epochs`.\n",
            "  \n"
          ],
          "name": "stderr"
        },
        {
          "output_type": "stream",
          "text": [
            "Train on 5359 samples, validate on 2641 samples\n",
            "Epoch 1/100\n",
            "5359/5359 [==============================] - 2s 358us/step - loss: 0.5349 - accuracy: 0.7494 - val_loss: 0.4585 - val_accuracy: 0.7982\n",
            "Epoch 2/100\n",
            "5359/5359 [==============================] - 1s 244us/step - loss: 0.4354 - accuracy: 0.8057 - val_loss: 0.4269 - val_accuracy: 0.8084\n",
            "Epoch 3/100\n",
            "5359/5359 [==============================] - 1s 235us/step - loss: 0.4072 - accuracy: 0.8147 - val_loss: 0.4131 - val_accuracy: 0.8107\n",
            "Epoch 4/100\n",
            "5359/5359 [==============================] - 1s 242us/step - loss: 0.3923 - accuracy: 0.8173 - val_loss: 0.4042 - val_accuracy: 0.8141\n",
            "Epoch 5/100\n",
            "5359/5359 [==============================] - 1s 255us/step - loss: 0.3827 - accuracy: 0.8199 - val_loss: 0.3974 - val_accuracy: 0.8148\n",
            "Epoch 6/100\n",
            "5359/5359 [==============================] - 1s 228us/step - loss: 0.3763 - accuracy: 0.8250 - val_loss: 0.3938 - val_accuracy: 0.8171\n",
            "Epoch 7/100\n",
            "5359/5359 [==============================] - 1s 175us/step - loss: 0.3707 - accuracy: 0.8309 - val_loss: 0.3921 - val_accuracy: 0.8205\n",
            "Epoch 8/100\n",
            "5359/5359 [==============================] - 1s 176us/step - loss: 0.3664 - accuracy: 0.8358 - val_loss: 0.3888 - val_accuracy: 0.8273\n",
            "Epoch 9/100\n",
            "5359/5359 [==============================] - 1s 180us/step - loss: 0.3622 - accuracy: 0.8408 - val_loss: 0.3891 - val_accuracy: 0.8270\n",
            "Epoch 10/100\n",
            "5359/5359 [==============================] - 1s 169us/step - loss: 0.3601 - accuracy: 0.8414 - val_loss: 0.3847 - val_accuracy: 0.8304\n",
            "Epoch 11/100\n",
            "5359/5359 [==============================] - 1s 156us/step - loss: 0.3563 - accuracy: 0.8433 - val_loss: 0.3847 - val_accuracy: 0.8376\n",
            "Epoch 12/100\n",
            "5359/5359 [==============================] - 1s 171us/step - loss: 0.3542 - accuracy: 0.8505 - val_loss: 0.3828 - val_accuracy: 0.8372\n",
            "Epoch 13/100\n",
            "5359/5359 [==============================] - 1s 190us/step - loss: 0.3518 - accuracy: 0.8509 - val_loss: 0.3806 - val_accuracy: 0.8368\n",
            "Epoch 14/100\n",
            "5359/5359 [==============================] - 1s 164us/step - loss: 0.3495 - accuracy: 0.8535 - val_loss: 0.3812 - val_accuracy: 0.8395\n",
            "Epoch 15/100\n",
            "5359/5359 [==============================] - 1s 172us/step - loss: 0.3476 - accuracy: 0.8546 - val_loss: 0.3775 - val_accuracy: 0.8383\n",
            "Epoch 16/100\n",
            "5359/5359 [==============================] - 1s 180us/step - loss: 0.3456 - accuracy: 0.8541 - val_loss: 0.3751 - val_accuracy: 0.8402\n",
            "Epoch 17/100\n",
            "5359/5359 [==============================] - 1s 175us/step - loss: 0.3449 - accuracy: 0.8559 - val_loss: 0.3757 - val_accuracy: 0.8432\n",
            "Epoch 18/100\n",
            "5359/5359 [==============================] - 1s 169us/step - loss: 0.3437 - accuracy: 0.8554 - val_loss: 0.3737 - val_accuracy: 0.8455\n",
            "Epoch 19/100\n",
            "5359/5359 [==============================] - 1s 159us/step - loss: 0.3426 - accuracy: 0.8572 - val_loss: 0.3715 - val_accuracy: 0.8444\n",
            "Epoch 20/100\n",
            "5359/5359 [==============================] - 1s 172us/step - loss: 0.3418 - accuracy: 0.8567 - val_loss: 0.3705 - val_accuracy: 0.8459\n",
            "Epoch 21/100\n",
            "5359/5359 [==============================] - 1s 177us/step - loss: 0.3403 - accuracy: 0.8597 - val_loss: 0.3713 - val_accuracy: 0.8432\n",
            "Epoch 22/100\n",
            "5359/5359 [==============================] - 1s 166us/step - loss: 0.3396 - accuracy: 0.8582 - val_loss: 0.3716 - val_accuracy: 0.8466\n",
            "Epoch 23/100\n",
            "5359/5359 [==============================] - 1s 170us/step - loss: 0.3390 - accuracy: 0.8587 - val_loss: 0.3696 - val_accuracy: 0.8451\n",
            "Epoch 24/100\n",
            "5359/5359 [==============================] - 1s 169us/step - loss: 0.3374 - accuracy: 0.8595 - val_loss: 0.3682 - val_accuracy: 0.8459\n",
            "Epoch 25/100\n",
            "5359/5359 [==============================] - 1s 171us/step - loss: 0.3377 - accuracy: 0.8593 - val_loss: 0.3687 - val_accuracy: 0.8485\n",
            "Epoch 26/100\n",
            "5359/5359 [==============================] - 1s 178us/step - loss: 0.3369 - accuracy: 0.8604 - val_loss: 0.3675 - val_accuracy: 0.8482\n",
            "Epoch 27/100\n",
            "5359/5359 [==============================] - 1s 168us/step - loss: 0.3364 - accuracy: 0.8621 - val_loss: 0.3672 - val_accuracy: 0.8493\n",
            "Epoch 28/100\n",
            "5359/5359 [==============================] - 1s 169us/step - loss: 0.3364 - accuracy: 0.8595 - val_loss: 0.3659 - val_accuracy: 0.8474\n",
            "Epoch 29/100\n",
            "5359/5359 [==============================] - 1s 186us/step - loss: 0.3356 - accuracy: 0.8586 - val_loss: 0.3660 - val_accuracy: 0.8485\n",
            "Epoch 30/100\n",
            "5359/5359 [==============================] - 1s 190us/step - loss: 0.3348 - accuracy: 0.8604 - val_loss: 0.3708 - val_accuracy: 0.8474\n",
            "Epoch 31/100\n",
            "5359/5359 [==============================] - 1s 167us/step - loss: 0.3350 - accuracy: 0.8600 - val_loss: 0.3675 - val_accuracy: 0.8466\n",
            "Epoch 32/100\n",
            "5359/5359 [==============================] - 1s 197us/step - loss: 0.3347 - accuracy: 0.8600 - val_loss: 0.3669 - val_accuracy: 0.8501\n",
            "Epoch 33/100\n",
            "5359/5359 [==============================] - 1s 179us/step - loss: 0.3340 - accuracy: 0.8619 - val_loss: 0.3664 - val_accuracy: 0.8489\n",
            "Epoch 34/100\n",
            "5359/5359 [==============================] - 1s 179us/step - loss: 0.3342 - accuracy: 0.8600 - val_loss: 0.3662 - val_accuracy: 0.8504\n",
            "Epoch 35/100\n",
            "5359/5359 [==============================] - 1s 159us/step - loss: 0.3337 - accuracy: 0.8615 - val_loss: 0.3660 - val_accuracy: 0.8493\n",
            "Epoch 36/100\n",
            "5359/5359 [==============================] - 1s 182us/step - loss: 0.3341 - accuracy: 0.8625 - val_loss: 0.3647 - val_accuracy: 0.8512\n",
            "Epoch 37/100\n",
            "5359/5359 [==============================] - 1s 163us/step - loss: 0.3335 - accuracy: 0.8612 - val_loss: 0.3634 - val_accuracy: 0.8527\n",
            "Epoch 38/100\n",
            "5359/5359 [==============================] - 1s 169us/step - loss: 0.3332 - accuracy: 0.8628 - val_loss: 0.3648 - val_accuracy: 0.8489\n",
            "Epoch 39/100\n",
            "5359/5359 [==============================] - 1s 172us/step - loss: 0.3334 - accuracy: 0.8632 - val_loss: 0.3638 - val_accuracy: 0.8482\n",
            "Epoch 40/100\n",
            "5359/5359 [==============================] - 1s 168us/step - loss: 0.3324 - accuracy: 0.8634 - val_loss: 0.3643 - val_accuracy: 0.8474\n",
            "Epoch 41/100\n",
            "5359/5359 [==============================] - 1s 161us/step - loss: 0.3326 - accuracy: 0.8634 - val_loss: 0.3638 - val_accuracy: 0.8470\n",
            "Epoch 42/100\n",
            "5359/5359 [==============================] - 1s 169us/step - loss: 0.3314 - accuracy: 0.8636 - val_loss: 0.3640 - val_accuracy: 0.8501\n",
            "Epoch 43/100\n",
            "5359/5359 [==============================] - 1s 170us/step - loss: 0.3326 - accuracy: 0.8586 - val_loss: 0.3637 - val_accuracy: 0.8497\n",
            "Epoch 44/100\n",
            "5359/5359 [==============================] - 1s 166us/step - loss: 0.3317 - accuracy: 0.8636 - val_loss: 0.3646 - val_accuracy: 0.8504\n",
            "Epoch 45/100\n",
            "5359/5359 [==============================] - 1s 170us/step - loss: 0.3314 - accuracy: 0.8614 - val_loss: 0.3640 - val_accuracy: 0.8474\n",
            "Epoch 46/100\n",
            "5359/5359 [==============================] - 1s 165us/step - loss: 0.3312 - accuracy: 0.8645 - val_loss: 0.3659 - val_accuracy: 0.8470\n",
            "Epoch 47/100\n",
            "5359/5359 [==============================] - 1s 163us/step - loss: 0.3310 - accuracy: 0.8614 - val_loss: 0.3634 - val_accuracy: 0.8482\n",
            "Epoch 48/100\n",
            "5359/5359 [==============================] - 1s 158us/step - loss: 0.3309 - accuracy: 0.8638 - val_loss: 0.3639 - val_accuracy: 0.8455\n",
            "Epoch 49/100\n",
            "5359/5359 [==============================] - 1s 171us/step - loss: 0.3304 - accuracy: 0.8640 - val_loss: 0.3641 - val_accuracy: 0.8463\n",
            "Epoch 50/100\n",
            "5359/5359 [==============================] - 1s 172us/step - loss: 0.3299 - accuracy: 0.8636 - val_loss: 0.3654 - val_accuracy: 0.8485\n",
            "Epoch 51/100\n",
            "5359/5359 [==============================] - 1s 158us/step - loss: 0.3296 - accuracy: 0.8627 - val_loss: 0.3636 - val_accuracy: 0.8463\n",
            "Epoch 52/100\n",
            "5359/5359 [==============================] - 1s 161us/step - loss: 0.3299 - accuracy: 0.8645 - val_loss: 0.3633 - val_accuracy: 0.8463\n",
            "Epoch 53/100\n",
            "5359/5359 [==============================] - 1s 175us/step - loss: 0.3298 - accuracy: 0.8636 - val_loss: 0.3649 - val_accuracy: 0.8470\n",
            "Epoch 54/100\n",
            "5359/5359 [==============================] - 1s 185us/step - loss: 0.3292 - accuracy: 0.8660 - val_loss: 0.3636 - val_accuracy: 0.8485\n",
            "Epoch 55/100\n",
            "5359/5359 [==============================] - 1s 181us/step - loss: 0.3289 - accuracy: 0.8651 - val_loss: 0.3634 - val_accuracy: 0.8497\n",
            "Epoch 56/100\n",
            "5359/5359 [==============================] - 1s 171us/step - loss: 0.3293 - accuracy: 0.8651 - val_loss: 0.3624 - val_accuracy: 0.8470\n",
            "Epoch 57/100\n",
            "5359/5359 [==============================] - 1s 170us/step - loss: 0.3290 - accuracy: 0.8647 - val_loss: 0.3640 - val_accuracy: 0.8485\n",
            "Epoch 58/100\n",
            "5359/5359 [==============================] - 1s 172us/step - loss: 0.3290 - accuracy: 0.8642 - val_loss: 0.3642 - val_accuracy: 0.8470\n",
            "Epoch 59/100\n",
            "5359/5359 [==============================] - 1s 166us/step - loss: 0.3278 - accuracy: 0.8662 - val_loss: 0.3636 - val_accuracy: 0.8478\n",
            "Epoch 60/100\n",
            "5359/5359 [==============================] - 1s 173us/step - loss: 0.3283 - accuracy: 0.8645 - val_loss: 0.3625 - val_accuracy: 0.8466\n",
            "Epoch 61/100\n",
            "5359/5359 [==============================] - 1s 164us/step - loss: 0.3276 - accuracy: 0.8647 - val_loss: 0.3643 - val_accuracy: 0.8482\n",
            "Epoch 62/100\n",
            "5359/5359 [==============================] - 1s 171us/step - loss: 0.3282 - accuracy: 0.8666 - val_loss: 0.3645 - val_accuracy: 0.8504\n",
            "Epoch 63/100\n",
            "5359/5359 [==============================] - 1s 164us/step - loss: 0.3277 - accuracy: 0.8634 - val_loss: 0.3635 - val_accuracy: 0.8482\n",
            "Epoch 64/100\n",
            "5359/5359 [==============================] - 1s 161us/step - loss: 0.3284 - accuracy: 0.8651 - val_loss: 0.3617 - val_accuracy: 0.8485\n",
            "Epoch 65/100\n",
            "5359/5359 [==============================] - 1s 167us/step - loss: 0.3272 - accuracy: 0.8660 - val_loss: 0.3686 - val_accuracy: 0.8504\n",
            "Epoch 66/100\n",
            "5359/5359 [==============================] - 1s 167us/step - loss: 0.3271 - accuracy: 0.8679 - val_loss: 0.3615 - val_accuracy: 0.8470\n",
            "Epoch 67/100\n",
            "5359/5359 [==============================] - 1s 171us/step - loss: 0.3277 - accuracy: 0.8662 - val_loss: 0.3617 - val_accuracy: 0.8489\n",
            "Epoch 68/100\n",
            "5359/5359 [==============================] - 1s 164us/step - loss: 0.3269 - accuracy: 0.8694 - val_loss: 0.3642 - val_accuracy: 0.8466\n",
            "Epoch 69/100\n",
            "5359/5359 [==============================] - 1s 184us/step - loss: 0.3266 - accuracy: 0.8651 - val_loss: 0.3654 - val_accuracy: 0.8485\n",
            "Epoch 70/100\n",
            "5359/5359 [==============================] - 1s 166us/step - loss: 0.3273 - accuracy: 0.8664 - val_loss: 0.3629 - val_accuracy: 0.8478\n",
            "Epoch 71/100\n",
            "5359/5359 [==============================] - 1s 169us/step - loss: 0.3274 - accuracy: 0.8658 - val_loss: 0.3631 - val_accuracy: 0.8474\n",
            "Epoch 72/100\n",
            "5359/5359 [==============================] - 1s 168us/step - loss: 0.3266 - accuracy: 0.8656 - val_loss: 0.3624 - val_accuracy: 0.8489\n",
            "Epoch 73/100\n",
            "5359/5359 [==============================] - 1s 170us/step - loss: 0.3265 - accuracy: 0.8658 - val_loss: 0.3644 - val_accuracy: 0.8516\n",
            "Epoch 74/100\n",
            "5359/5359 [==============================] - 1s 184us/step - loss: 0.3262 - accuracy: 0.8668 - val_loss: 0.3637 - val_accuracy: 0.8463\n",
            "Epoch 75/100\n",
            "5359/5359 [==============================] - 1s 160us/step - loss: 0.3261 - accuracy: 0.8662 - val_loss: 0.3640 - val_accuracy: 0.8489\n",
            "Epoch 76/100\n",
            "5359/5359 [==============================] - 1s 167us/step - loss: 0.3257 - accuracy: 0.8671 - val_loss: 0.3602 - val_accuracy: 0.8463\n",
            "Epoch 77/100\n",
            "5359/5359 [==============================] - 1s 171us/step - loss: 0.3262 - accuracy: 0.8679 - val_loss: 0.3622 - val_accuracy: 0.8546\n",
            "Epoch 78/100\n",
            "5359/5359 [==============================] - 1s 173us/step - loss: 0.3258 - accuracy: 0.8655 - val_loss: 0.3628 - val_accuracy: 0.8493\n",
            "Epoch 79/100\n",
            "5359/5359 [==============================] - 1s 168us/step - loss: 0.3259 - accuracy: 0.8658 - val_loss: 0.3613 - val_accuracy: 0.8474\n",
            "Epoch 80/100\n",
            "5359/5359 [==============================] - 1s 163us/step - loss: 0.3248 - accuracy: 0.8664 - val_loss: 0.3637 - val_accuracy: 0.8485\n",
            "Epoch 81/100\n",
            "5359/5359 [==============================] - 1s 169us/step - loss: 0.3255 - accuracy: 0.8666 - val_loss: 0.3609 - val_accuracy: 0.8493\n",
            "Epoch 82/100\n",
            "5359/5359 [==============================] - 1s 180us/step - loss: 0.3267 - accuracy: 0.8670 - val_loss: 0.3608 - val_accuracy: 0.8478\n",
            "Epoch 83/100\n",
            "5359/5359 [==============================] - 1s 181us/step - loss: 0.3252 - accuracy: 0.8681 - val_loss: 0.3633 - val_accuracy: 0.8463\n",
            "Epoch 84/100\n",
            "5359/5359 [==============================] - 1s 165us/step - loss: 0.3248 - accuracy: 0.8656 - val_loss: 0.3615 - val_accuracy: 0.8519\n",
            "Epoch 85/100\n",
            "5359/5359 [==============================] - 1s 172us/step - loss: 0.3250 - accuracy: 0.8662 - val_loss: 0.3610 - val_accuracy: 0.8523\n",
            "Epoch 86/100\n",
            "5359/5359 [==============================] - 1s 184us/step - loss: 0.3249 - accuracy: 0.8679 - val_loss: 0.3651 - val_accuracy: 0.8470\n",
            "Epoch 87/100\n",
            "5359/5359 [==============================] - 1s 170us/step - loss: 0.3250 - accuracy: 0.8660 - val_loss: 0.3599 - val_accuracy: 0.8493\n",
            "Epoch 88/100\n",
            "5359/5359 [==============================] - 1s 177us/step - loss: 0.3247 - accuracy: 0.8655 - val_loss: 0.3598 - val_accuracy: 0.8512\n",
            "Epoch 89/100\n",
            "5359/5359 [==============================] - 1s 176us/step - loss: 0.3249 - accuracy: 0.8653 - val_loss: 0.3615 - val_accuracy: 0.8535\n",
            "Epoch 90/100\n",
            "5359/5359 [==============================] - 1s 188us/step - loss: 0.3248 - accuracy: 0.8668 - val_loss: 0.3605 - val_accuracy: 0.8489\n",
            "Epoch 91/100\n",
            "5359/5359 [==============================] - 1s 180us/step - loss: 0.3247 - accuracy: 0.8677 - val_loss: 0.3592 - val_accuracy: 0.8519\n",
            "Epoch 92/100\n",
            "5359/5359 [==============================] - 1s 178us/step - loss: 0.3247 - accuracy: 0.8686 - val_loss: 0.3623 - val_accuracy: 0.8523\n",
            "Epoch 93/100\n",
            "5359/5359 [==============================] - 1s 171us/step - loss: 0.3247 - accuracy: 0.8686 - val_loss: 0.3606 - val_accuracy: 0.8535\n",
            "Epoch 94/100\n",
            "5359/5359 [==============================] - 1s 196us/step - loss: 0.3245 - accuracy: 0.8670 - val_loss: 0.3637 - val_accuracy: 0.8557\n",
            "Epoch 95/100\n",
            "5359/5359 [==============================] - 1s 179us/step - loss: 0.3251 - accuracy: 0.8645 - val_loss: 0.3616 - val_accuracy: 0.8497\n",
            "Epoch 96/100\n",
            "5359/5359 [==============================] - 1s 178us/step - loss: 0.3249 - accuracy: 0.8686 - val_loss: 0.3610 - val_accuracy: 0.8512\n",
            "Epoch 97/100\n",
            "5359/5359 [==============================] - 1s 172us/step - loss: 0.3247 - accuracy: 0.8679 - val_loss: 0.3591 - val_accuracy: 0.8508\n",
            "Epoch 98/100\n",
            "5359/5359 [==============================] - 1s 167us/step - loss: 0.3239 - accuracy: 0.8694 - val_loss: 0.3601 - val_accuracy: 0.8546\n",
            "Epoch 99/100\n",
            "5359/5359 [==============================] - 1s 178us/step - loss: 0.3244 - accuracy: 0.8675 - val_loss: 0.3621 - val_accuracy: 0.8497\n",
            "Epoch 100/100\n",
            "5359/5359 [==============================] - 1s 157us/step - loss: 0.3244 - accuracy: 0.8677 - val_loss: 0.3591 - val_accuracy: 0.8482\n"
          ],
          "name": "stdout"
        }
      ]
    },
    {
      "cell_type": "code",
      "metadata": {
        "id": "l7bciXxgHZgM",
        "colab_type": "code",
        "colab": {
          "base_uri": "https://localhost:8080/",
          "height": 34
        },
        "outputId": "81e0a80f-490a-48bb-910b-a6f62f0528c3"
      },
      "source": [
        "#list all data in history\n",
        "print(model_history.history.keys())"
      ],
      "execution_count": 25,
      "outputs": [
        {
          "output_type": "stream",
          "text": [
            "dict_keys(['val_loss', 'val_accuracy', 'loss', 'accuracy'])\n"
          ],
          "name": "stdout"
        }
      ]
    },
    {
      "cell_type": "code",
      "metadata": {
        "id": "lSX-uzUAH4tt",
        "colab_type": "code",
        "colab": {
          "base_uri": "https://localhost:8080/",
          "height": 295
        },
        "outputId": "4c4642af-42d1-4b83-9bf4-0966a5117c5a"
      },
      "source": [
        "plt.plot(model_history.history['accuracy'])\n",
        "plt.plot(model_history.history['val_accuracy'])\n",
        "plt.title('model_accuracy')\n",
        "plt.ylabel('accuracy')\n",
        "plt.xlabel('epoch')\n",
        "plt.legend(['train','test'],loc='lower right')\n",
        "plt.show()"
      ],
      "execution_count": 33,
      "outputs": [
        {
          "output_type": "display_data",
          "data": {
            "image/png": "[encoded data removed]",
            "text/plain": [
              "<Figure size 432x288 with 1 Axes>"
            ]
          },
          "metadata": {
            "tags": [],
            "needs_background": "light"
          }
        }
      ]
    },
    {
      "cell_type": "code",
      "metadata": {
        "id": "xQPFLdseTD9f",
        "colab_type": "code",
        "colab": {
          "base_uri": "https://localhost:8080/",
          "height": 295
        },
        "outputId": "74ea58b9-72b0-4ad7-a35d-54defcad5e52"
      },
      "source": [
        "#Summerizing History for loss\n",
        "plt.plot(model_history.history['loss'])\n",
        "plt.plot(model_history.history['val_loss'])\n",
        "plt.title('model_loss')\n",
        "plt.ylabel('loss')\n",
        "plt.xlabel('epoch')\n",
        "plt.legend(['train','test'],loc='upper right')\n",
        "plt.show()"
      ],
      "execution_count": 35,
      "outputs": [
        {
          "output_type": "display_data",
          "data": {
            "image/png": "[encoded data removed]",
            "text/plain": [
              "<Figure size 432x288 with 1 Axes>"
            ]
          },
          "metadata": {
            "tags": [],
            "needs_background": "light"
          }
        }
      ]
    },
    {
      "cell_type": "code",
      "metadata": {
        "id": "0Jn_M7zkU40X",
        "colab_type": "code",
        "colab": {}
      },
      "source": [
        "y_pred=classifier.predict(X_test)\n",
        "y_pred=(y_pred>0.5)"
      ],
      "execution_count": 36,
      "outputs": []
    },
    {
      "cell_type": "code",
      "metadata": {
        "id": "D4GxTcLmVQGo",
        "colab_type": "code",
        "colab": {
          "base_uri": "https://localhost:8080/",
          "height": 51
        },
        "outputId": "07eca7ea-e9a0-423e-ac75-483ff2272501"
      },
      "source": [
        "from sklearn.metrics import confusion_matrix\n",
        "cm = confusion_matrix(y_test,y_pred)\n",
        "print(cm)"
      ],
      "execution_count": 38,
      "outputs": [
        {
          "output_type": "stream",
          "text": [
            "[[1539   56]\n",
            " [ 220  185]]\n"
          ],
          "name": "stdout"
        }
      ]
    },
    {
      "cell_type": "code",
      "metadata": {
        "id": "s0eUYiG_Vhne",
        "colab_type": "code",
        "colab": {
          "base_uri": "https://localhost:8080/",
          "height": 34
        },
        "outputId": "51013182-6631-4e98-d740-32d2eab2f6c2"
      },
      "source": [
        "from sklearn.metrics import accuracy_score\n",
        "score=accuracy_score(y_pred,y_test)\n",
        "print(score)"
      ],
      "execution_count": 40,
      "outputs": [
        {
          "output_type": "stream",
          "text": [
            "0.862\n"
          ],
          "name": "stdout"
        }
      ]
    },
    {
      "cell_type": "code",
      "metadata": {
        "id": "YJ8B28WeVx38",
        "colab_type": "code",
        "colab": {}
      },
      "source": [
        ""
      ],
      "execution_count": null,
      "outputs": []
    }
  ]
}